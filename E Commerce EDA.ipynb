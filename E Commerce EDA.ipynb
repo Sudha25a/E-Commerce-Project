{
 "cells": [
  {
   "cell_type": "markdown",
   "metadata": {},
   "source": [
    "# Importing Libraries"
   ]
  },
  {
   "cell_type": "code",
   "execution_count": 1,
   "metadata": {},
   "outputs": [],
   "source": [
    "import numpy as np\n",
    "import pandas as pd\n",
    "import seaborn as sns\n",
    "import matplotlib.pyplot as plt\n",
    "import warnings \n",
    "warnings.filterwarnings('ignore')"
   ]
  },
  {
   "cell_type": "markdown",
   "metadata": {},
   "source": [
    "#  Download the CSV File:"
   ]
  },
  {
   "cell_type": "code",
   "execution_count": 2,
   "metadata": {},
   "outputs": [],
   "source": [
    "df = pd.read_csv(\"Sample-Superstore.csv\", encoding='latin-1')"
   ]
  },
  {
   "cell_type": "markdown",
   "metadata": {},
   "source": [
    "# CLeaning the Data"
   ]
  },
  {
   "cell_type": "code",
   "execution_count": 3,
   "metadata": {},
   "outputs": [
    {
     "name": "stdout",
     "output_type": "stream",
     "text": [
      "(9994, 21)\n"
     ]
    }
   ],
   "source": [
    "print(df.shape)"
   ]
  },
  {
   "cell_type": "code",
   "execution_count": 4,
   "metadata": {},
   "outputs": [
    {
     "name": "stdout",
     "output_type": "stream",
     "text": [
      "<class 'pandas.core.frame.DataFrame'>\n",
      "RangeIndex: 9994 entries, 0 to 9993\n",
      "Data columns (total 21 columns):\n",
      " #   Column         Non-Null Count  Dtype  \n",
      "---  ------         --------------  -----  \n",
      " 0   Row ID         9994 non-null   int64  \n",
      " 1   Order ID       9994 non-null   object \n",
      " 2   Order Date     9994 non-null   object \n",
      " 3   Ship Date      9994 non-null   object \n",
      " 4   Ship Mode      9994 non-null   object \n",
      " 5   Customer ID    9994 non-null   object \n",
      " 6   Customer Name  9994 non-null   object \n",
      " 7   Segment        9994 non-null   object \n",
      " 8   Country        9994 non-null   object \n",
      " 9   City           9994 non-null   object \n",
      " 10  State          9994 non-null   object \n",
      " 11  Postal Code    9994 non-null   int64  \n",
      " 12  Region         9994 non-null   object \n",
      " 13  Product ID     9994 non-null   object \n",
      " 14  Category       9994 non-null   object \n",
      " 15  Sub-Category   9994 non-null   object \n",
      " 16  Product Name   9994 non-null   object \n",
      " 17  Sales          9994 non-null   float64\n",
      " 18  Quantity       9994 non-null   int64  \n",
      " 19  Discount       9994 non-null   float64\n",
      " 20  Profit         9994 non-null   float64\n",
      "dtypes: float64(3), int64(3), object(15)\n",
      "memory usage: 1.6+ MB\n",
      "None\n"
     ]
    }
   ],
   "source": [
    "print(df.info())"
   ]
  },
  {
   "cell_type": "code",
   "execution_count": 5,
   "metadata": {},
   "outputs": [
    {
     "name": "stdout",
     "output_type": "stream",
     "text": [
      "Row ID           0\n",
      "Order ID         0\n",
      "Order Date       0\n",
      "Ship Date        0\n",
      "Ship Mode        0\n",
      "Customer ID      0\n",
      "Customer Name    0\n",
      "Segment          0\n",
      "Country          0\n",
      "City             0\n",
      "State            0\n",
      "Postal Code      0\n",
      "Region           0\n",
      "Product ID       0\n",
      "Category         0\n",
      "Sub-Category     0\n",
      "Product Name     0\n",
      "Sales            0\n",
      "Quantity         0\n",
      "Discount         0\n",
      "Profit           0\n",
      "dtype: int64\n"
     ]
    }
   ],
   "source": [
    "print(df.isna().sum())"
   ]
  },
  {
   "cell_type": "code",
   "execution_count": 6,
   "metadata": {},
   "outputs": [
    {
     "name": "stdout",
     "output_type": "stream",
     "text": [
      "0\n"
     ]
    }
   ],
   "source": [
    "# Check for duplicate rows\n",
    "print(df.duplicated().sum())"
   ]
  },
  {
   "cell_type": "code",
   "execution_count": 7,
   "metadata": {},
   "outputs": [
    {
     "name": "stdout",
     "output_type": "stream",
     "text": [
      "            Row ID   Postal Code         Sales     Quantity     Discount  \\\n",
      "count  9994.000000   9994.000000   9994.000000  9994.000000  9994.000000   \n",
      "mean   4997.500000  55190.379428    229.858001     3.789574     0.156203   \n",
      "std    2885.163629  32063.693350    623.245101     2.225110     0.206452   \n",
      "min       1.000000   1040.000000      0.444000     1.000000     0.000000   \n",
      "25%    2499.250000  23223.000000     17.280000     2.000000     0.000000   \n",
      "50%    4997.500000  56430.500000     54.490000     3.000000     0.200000   \n",
      "75%    7495.750000  90008.000000    209.940000     5.000000     0.200000   \n",
      "max    9994.000000  99301.000000  22638.480000    14.000000     0.800000   \n",
      "\n",
      "            Profit  \n",
      "count  9994.000000  \n",
      "mean     28.656896  \n",
      "std     234.260108  \n",
      "min   -6599.978000  \n",
      "25%       1.728750  \n",
      "50%       8.666500  \n",
      "75%      29.364000  \n",
      "max    8399.976000  \n"
     ]
    }
   ],
   "source": [
    "# Summary statistics for numerical columns\n",
    "print(df.describe())"
   ]
  },
  {
   "cell_type": "code",
   "execution_count": 8,
   "metadata": {},
   "outputs": [
    {
     "data": {
      "text/html": [
       "<div>\n",
       "<style scoped>\n",
       "    .dataframe tbody tr th:only-of-type {\n",
       "        vertical-align: middle;\n",
       "    }\n",
       "\n",
       "    .dataframe tbody tr th {\n",
       "        vertical-align: top;\n",
       "    }\n",
       "\n",
       "    .dataframe thead th {\n",
       "        text-align: right;\n",
       "    }\n",
       "</style>\n",
       "<table border=\"1\" class=\"dataframe\">\n",
       "  <thead>\n",
       "    <tr style=\"text-align: right;\">\n",
       "      <th></th>\n",
       "      <th>Row ID</th>\n",
       "      <th>Order ID</th>\n",
       "      <th>Order Date</th>\n",
       "      <th>Ship Date</th>\n",
       "      <th>Ship Mode</th>\n",
       "      <th>Customer ID</th>\n",
       "      <th>Customer Name</th>\n",
       "      <th>Segment</th>\n",
       "      <th>Country</th>\n",
       "      <th>City</th>\n",
       "      <th>...</th>\n",
       "      <th>Postal Code</th>\n",
       "      <th>Region</th>\n",
       "      <th>Product ID</th>\n",
       "      <th>Category</th>\n",
       "      <th>Sub-Category</th>\n",
       "      <th>Product Name</th>\n",
       "      <th>Sales</th>\n",
       "      <th>Quantity</th>\n",
       "      <th>Discount</th>\n",
       "      <th>Profit</th>\n",
       "    </tr>\n",
       "  </thead>\n",
       "  <tbody>\n",
       "    <tr>\n",
       "      <th>0</th>\n",
       "      <td>1</td>\n",
       "      <td>CA-2016-152156</td>\n",
       "      <td>11/8/2016</td>\n",
       "      <td>11/11/2016</td>\n",
       "      <td>Second Class</td>\n",
       "      <td>CG-12520</td>\n",
       "      <td>Claire Gute</td>\n",
       "      <td>Consumer</td>\n",
       "      <td>United States</td>\n",
       "      <td>Henderson</td>\n",
       "      <td>...</td>\n",
       "      <td>42420</td>\n",
       "      <td>South</td>\n",
       "      <td>FUR-BO-10001798</td>\n",
       "      <td>Furniture</td>\n",
       "      <td>Bookcases</td>\n",
       "      <td>Bush Somerset Collection Bookcase</td>\n",
       "      <td>261.9600</td>\n",
       "      <td>2</td>\n",
       "      <td>0.00</td>\n",
       "      <td>41.9136</td>\n",
       "    </tr>\n",
       "    <tr>\n",
       "      <th>1</th>\n",
       "      <td>2</td>\n",
       "      <td>CA-2016-152156</td>\n",
       "      <td>11/8/2016</td>\n",
       "      <td>11/11/2016</td>\n",
       "      <td>Second Class</td>\n",
       "      <td>CG-12520</td>\n",
       "      <td>Claire Gute</td>\n",
       "      <td>Consumer</td>\n",
       "      <td>United States</td>\n",
       "      <td>Henderson</td>\n",
       "      <td>...</td>\n",
       "      <td>42420</td>\n",
       "      <td>South</td>\n",
       "      <td>FUR-CH-10000454</td>\n",
       "      <td>Furniture</td>\n",
       "      <td>Chairs</td>\n",
       "      <td>Hon Deluxe Fabric Upholstered Stacking Chairs,...</td>\n",
       "      <td>731.9400</td>\n",
       "      <td>3</td>\n",
       "      <td>0.00</td>\n",
       "      <td>219.5820</td>\n",
       "    </tr>\n",
       "    <tr>\n",
       "      <th>2</th>\n",
       "      <td>3</td>\n",
       "      <td>CA-2016-138688</td>\n",
       "      <td>6/12/2016</td>\n",
       "      <td>6/16/2016</td>\n",
       "      <td>Second Class</td>\n",
       "      <td>DV-13045</td>\n",
       "      <td>Darrin Van Huff</td>\n",
       "      <td>Corporate</td>\n",
       "      <td>United States</td>\n",
       "      <td>Los Angeles</td>\n",
       "      <td>...</td>\n",
       "      <td>90036</td>\n",
       "      <td>West</td>\n",
       "      <td>OFF-LA-10000240</td>\n",
       "      <td>Office Supplies</td>\n",
       "      <td>Labels</td>\n",
       "      <td>Self-Adhesive Address Labels for Typewriters b...</td>\n",
       "      <td>14.6200</td>\n",
       "      <td>2</td>\n",
       "      <td>0.00</td>\n",
       "      <td>6.8714</td>\n",
       "    </tr>\n",
       "    <tr>\n",
       "      <th>3</th>\n",
       "      <td>4</td>\n",
       "      <td>US-2015-108966</td>\n",
       "      <td>10/11/2015</td>\n",
       "      <td>10/18/2015</td>\n",
       "      <td>Standard Class</td>\n",
       "      <td>SO-20335</td>\n",
       "      <td>Sean O'Donnell</td>\n",
       "      <td>Consumer</td>\n",
       "      <td>United States</td>\n",
       "      <td>Fort Lauderdale</td>\n",
       "      <td>...</td>\n",
       "      <td>33311</td>\n",
       "      <td>South</td>\n",
       "      <td>FUR-TA-10000577</td>\n",
       "      <td>Furniture</td>\n",
       "      <td>Tables</td>\n",
       "      <td>Bretford CR4500 Series Slim Rectangular Table</td>\n",
       "      <td>957.5775</td>\n",
       "      <td>5</td>\n",
       "      <td>0.45</td>\n",
       "      <td>-383.0310</td>\n",
       "    </tr>\n",
       "    <tr>\n",
       "      <th>4</th>\n",
       "      <td>5</td>\n",
       "      <td>US-2015-108966</td>\n",
       "      <td>10/11/2015</td>\n",
       "      <td>10/18/2015</td>\n",
       "      <td>Standard Class</td>\n",
       "      <td>SO-20335</td>\n",
       "      <td>Sean O'Donnell</td>\n",
       "      <td>Consumer</td>\n",
       "      <td>United States</td>\n",
       "      <td>Fort Lauderdale</td>\n",
       "      <td>...</td>\n",
       "      <td>33311</td>\n",
       "      <td>South</td>\n",
       "      <td>OFF-ST-10000760</td>\n",
       "      <td>Office Supplies</td>\n",
       "      <td>Storage</td>\n",
       "      <td>Eldon Fold 'N Roll Cart System</td>\n",
       "      <td>22.3680</td>\n",
       "      <td>2</td>\n",
       "      <td>0.20</td>\n",
       "      <td>2.5164</td>\n",
       "    </tr>\n",
       "  </tbody>\n",
       "</table>\n",
       "<p>5 rows × 21 columns</p>\n",
       "</div>"
      ],
      "text/plain": [
       "   Row ID        Order ID  Order Date   Ship Date       Ship Mode Customer ID  \\\n",
       "0       1  CA-2016-152156   11/8/2016  11/11/2016    Second Class    CG-12520   \n",
       "1       2  CA-2016-152156   11/8/2016  11/11/2016    Second Class    CG-12520   \n",
       "2       3  CA-2016-138688   6/12/2016   6/16/2016    Second Class    DV-13045   \n",
       "3       4  US-2015-108966  10/11/2015  10/18/2015  Standard Class    SO-20335   \n",
       "4       5  US-2015-108966  10/11/2015  10/18/2015  Standard Class    SO-20335   \n",
       "\n",
       "     Customer Name    Segment        Country             City  ...  \\\n",
       "0      Claire Gute   Consumer  United States        Henderson  ...   \n",
       "1      Claire Gute   Consumer  United States        Henderson  ...   \n",
       "2  Darrin Van Huff  Corporate  United States      Los Angeles  ...   \n",
       "3   Sean O'Donnell   Consumer  United States  Fort Lauderdale  ...   \n",
       "4   Sean O'Donnell   Consumer  United States  Fort Lauderdale  ...   \n",
       "\n",
       "  Postal Code  Region       Product ID         Category Sub-Category  \\\n",
       "0       42420   South  FUR-BO-10001798        Furniture    Bookcases   \n",
       "1       42420   South  FUR-CH-10000454        Furniture       Chairs   \n",
       "2       90036    West  OFF-LA-10000240  Office Supplies       Labels   \n",
       "3       33311   South  FUR-TA-10000577        Furniture       Tables   \n",
       "4       33311   South  OFF-ST-10000760  Office Supplies      Storage   \n",
       "\n",
       "                                        Product Name     Sales  Quantity  \\\n",
       "0                  Bush Somerset Collection Bookcase  261.9600         2   \n",
       "1  Hon Deluxe Fabric Upholstered Stacking Chairs,...  731.9400         3   \n",
       "2  Self-Adhesive Address Labels for Typewriters b...   14.6200         2   \n",
       "3      Bretford CR4500 Series Slim Rectangular Table  957.5775         5   \n",
       "4                     Eldon Fold 'N Roll Cart System   22.3680         2   \n",
       "\n",
       "   Discount    Profit  \n",
       "0      0.00   41.9136  \n",
       "1      0.00  219.5820  \n",
       "2      0.00    6.8714  \n",
       "3      0.45 -383.0310  \n",
       "4      0.20    2.5164  \n",
       "\n",
       "[5 rows x 21 columns]"
      ]
     },
     "execution_count": 8,
     "metadata": {},
     "output_type": "execute_result"
    }
   ],
   "source": [
    "df.head(5)"
   ]
  },
  {
   "cell_type": "code",
   "execution_count": 9,
   "metadata": {},
   "outputs": [],
   "source": [
    "df['Order Date'] = pd.to_datetime(df['Order Date'])"
   ]
  },
  {
   "cell_type": "code",
   "execution_count": 10,
   "metadata": {},
   "outputs": [],
   "source": [
    "#df['Sales'] = df['Sales'].astype(float)\n",
    "df['Sales'] = df['Sales'].astype(float)\n",
    "df['Profit'] = df['Profit'].astype(float) \n",
    "df['Quantity'] = df['Quantity'].astype(int)"
   ]
  },
  {
   "cell_type": "code",
   "execution_count": 11,
   "metadata": {},
   "outputs": [
    {
     "data": {
      "text/html": [
       "<div>\n",
       "<style scoped>\n",
       "    .dataframe tbody tr th:only-of-type {\n",
       "        vertical-align: middle;\n",
       "    }\n",
       "\n",
       "    .dataframe tbody tr th {\n",
       "        vertical-align: top;\n",
       "    }\n",
       "\n",
       "    .dataframe thead th {\n",
       "        text-align: right;\n",
       "    }\n",
       "</style>\n",
       "<table border=\"1\" class=\"dataframe\">\n",
       "  <thead>\n",
       "    <tr style=\"text-align: right;\">\n",
       "      <th></th>\n",
       "      <th>Row ID</th>\n",
       "      <th>Order ID</th>\n",
       "      <th>Order Date</th>\n",
       "      <th>Ship Date</th>\n",
       "      <th>Ship Mode</th>\n",
       "      <th>Customer ID</th>\n",
       "      <th>Customer Name</th>\n",
       "      <th>Segment</th>\n",
       "      <th>Country</th>\n",
       "      <th>City</th>\n",
       "      <th>...</th>\n",
       "      <th>Postal Code</th>\n",
       "      <th>Region</th>\n",
       "      <th>Product ID</th>\n",
       "      <th>Category</th>\n",
       "      <th>Sub-Category</th>\n",
       "      <th>Product Name</th>\n",
       "      <th>Sales</th>\n",
       "      <th>Quantity</th>\n",
       "      <th>Discount</th>\n",
       "      <th>Profit</th>\n",
       "    </tr>\n",
       "  </thead>\n",
       "  <tbody>\n",
       "    <tr>\n",
       "      <th>0</th>\n",
       "      <td>1</td>\n",
       "      <td>CA-2016-152156</td>\n",
       "      <td>2016-11-08</td>\n",
       "      <td>11/11/2016</td>\n",
       "      <td>Second Class</td>\n",
       "      <td>CG-12520</td>\n",
       "      <td>Claire Gute</td>\n",
       "      <td>Consumer</td>\n",
       "      <td>United States</td>\n",
       "      <td>Henderson</td>\n",
       "      <td>...</td>\n",
       "      <td>42420</td>\n",
       "      <td>South</td>\n",
       "      <td>FUR-BO-10001798</td>\n",
       "      <td>Furniture</td>\n",
       "      <td>Bookcases</td>\n",
       "      <td>Bush Somerset Collection Bookcase</td>\n",
       "      <td>261.96</td>\n",
       "      <td>2</td>\n",
       "      <td>0.0</td>\n",
       "      <td>41.9136</td>\n",
       "    </tr>\n",
       "    <tr>\n",
       "      <th>1</th>\n",
       "      <td>2</td>\n",
       "      <td>CA-2016-152156</td>\n",
       "      <td>2016-11-08</td>\n",
       "      <td>11/11/2016</td>\n",
       "      <td>Second Class</td>\n",
       "      <td>CG-12520</td>\n",
       "      <td>Claire Gute</td>\n",
       "      <td>Consumer</td>\n",
       "      <td>United States</td>\n",
       "      <td>Henderson</td>\n",
       "      <td>...</td>\n",
       "      <td>42420</td>\n",
       "      <td>South</td>\n",
       "      <td>FUR-CH-10000454</td>\n",
       "      <td>Furniture</td>\n",
       "      <td>Chairs</td>\n",
       "      <td>Hon Deluxe Fabric Upholstered Stacking Chairs,...</td>\n",
       "      <td>731.94</td>\n",
       "      <td>3</td>\n",
       "      <td>0.0</td>\n",
       "      <td>219.5820</td>\n",
       "    </tr>\n",
       "  </tbody>\n",
       "</table>\n",
       "<p>2 rows × 21 columns</p>\n",
       "</div>"
      ],
      "text/plain": [
       "   Row ID        Order ID Order Date   Ship Date     Ship Mode Customer ID  \\\n",
       "0       1  CA-2016-152156 2016-11-08  11/11/2016  Second Class    CG-12520   \n",
       "1       2  CA-2016-152156 2016-11-08  11/11/2016  Second Class    CG-12520   \n",
       "\n",
       "  Customer Name   Segment        Country       City  ... Postal Code  Region  \\\n",
       "0   Claire Gute  Consumer  United States  Henderson  ...       42420   South   \n",
       "1   Claire Gute  Consumer  United States  Henderson  ...       42420   South   \n",
       "\n",
       "        Product ID   Category Sub-Category  \\\n",
       "0  FUR-BO-10001798  Furniture    Bookcases   \n",
       "1  FUR-CH-10000454  Furniture       Chairs   \n",
       "\n",
       "                                        Product Name   Sales  Quantity  \\\n",
       "0                  Bush Somerset Collection Bookcase  261.96         2   \n",
       "1  Hon Deluxe Fabric Upholstered Stacking Chairs,...  731.94         3   \n",
       "\n",
       "   Discount    Profit  \n",
       "0       0.0   41.9136  \n",
       "1       0.0  219.5820  \n",
       "\n",
       "[2 rows x 21 columns]"
      ]
     },
     "execution_count": 11,
     "metadata": {},
     "output_type": "execute_result"
    }
   ],
   "source": [
    "df.head(2)"
   ]
  },
  {
   "cell_type": "markdown",
   "metadata": {},
   "source": [
    "# Create New Features "
   ]
  },
  {
   "cell_type": "code",
   "execution_count": 12,
   "metadata": {},
   "outputs": [],
   "source": [
    "df['Month'] = df['Order Date'].dt.month\n",
    "df['Year'] = df['Order Date'].dt.year"
   ]
  },
  {
   "cell_type": "code",
   "execution_count": 13,
   "metadata": {},
   "outputs": [
    {
     "name": "stdout",
     "output_type": "stream",
     "text": [
      "<class 'pandas.core.frame.DataFrame'>\n",
      "RangeIndex: 9994 entries, 0 to 9993\n",
      "Data columns (total 23 columns):\n",
      " #   Column         Non-Null Count  Dtype         \n",
      "---  ------         --------------  -----         \n",
      " 0   Row ID         9994 non-null   int64         \n",
      " 1   Order ID       9994 non-null   object        \n",
      " 2   Order Date     9994 non-null   datetime64[ns]\n",
      " 3   Ship Date      9994 non-null   object        \n",
      " 4   Ship Mode      9994 non-null   object        \n",
      " 5   Customer ID    9994 non-null   object        \n",
      " 6   Customer Name  9994 non-null   object        \n",
      " 7   Segment        9994 non-null   object        \n",
      " 8   Country        9994 non-null   object        \n",
      " 9   City           9994 non-null   object        \n",
      " 10  State          9994 non-null   object        \n",
      " 11  Postal Code    9994 non-null   int64         \n",
      " 12  Region         9994 non-null   object        \n",
      " 13  Product ID     9994 non-null   object        \n",
      " 14  Category       9994 non-null   object        \n",
      " 15  Sub-Category   9994 non-null   object        \n",
      " 16  Product Name   9994 non-null   object        \n",
      " 17  Sales          9994 non-null   float64       \n",
      " 18  Quantity       9994 non-null   int32         \n",
      " 19  Discount       9994 non-null   float64       \n",
      " 20  Profit         9994 non-null   float64       \n",
      " 21  Month          9994 non-null   int32         \n",
      " 22  Year           9994 non-null   int32         \n",
      "dtypes: datetime64[ns](1), float64(3), int32(3), int64(2), object(14)\n",
      "memory usage: 1.6+ MB\n",
      "None\n"
     ]
    }
   ],
   "source": [
    "print(df.info())"
   ]
  },
  {
   "cell_type": "code",
   "execution_count": 14,
   "metadata": {},
   "outputs": [
    {
     "data": {
      "text/html": [
       "<div>\n",
       "<style scoped>\n",
       "    .dataframe tbody tr th:only-of-type {\n",
       "        vertical-align: middle;\n",
       "    }\n",
       "\n",
       "    .dataframe tbody tr th {\n",
       "        vertical-align: top;\n",
       "    }\n",
       "\n",
       "    .dataframe thead th {\n",
       "        text-align: right;\n",
       "    }\n",
       "</style>\n",
       "<table border=\"1\" class=\"dataframe\">\n",
       "  <thead>\n",
       "    <tr style=\"text-align: right;\">\n",
       "      <th></th>\n",
       "      <th>Row ID</th>\n",
       "      <th>Order ID</th>\n",
       "      <th>Order Date</th>\n",
       "      <th>Ship Date</th>\n",
       "      <th>Ship Mode</th>\n",
       "      <th>Customer ID</th>\n",
       "      <th>Customer Name</th>\n",
       "      <th>Segment</th>\n",
       "      <th>Country</th>\n",
       "      <th>City</th>\n",
       "      <th>...</th>\n",
       "      <th>Product ID</th>\n",
       "      <th>Category</th>\n",
       "      <th>Sub-Category</th>\n",
       "      <th>Product Name</th>\n",
       "      <th>Sales</th>\n",
       "      <th>Quantity</th>\n",
       "      <th>Discount</th>\n",
       "      <th>Profit</th>\n",
       "      <th>Month</th>\n",
       "      <th>Year</th>\n",
       "    </tr>\n",
       "  </thead>\n",
       "  <tbody>\n",
       "    <tr>\n",
       "      <th>0</th>\n",
       "      <td>1</td>\n",
       "      <td>CA-2016-152156</td>\n",
       "      <td>2016-11-08</td>\n",
       "      <td>11/11/2016</td>\n",
       "      <td>Second Class</td>\n",
       "      <td>CG-12520</td>\n",
       "      <td>Claire Gute</td>\n",
       "      <td>Consumer</td>\n",
       "      <td>United States</td>\n",
       "      <td>Henderson</td>\n",
       "      <td>...</td>\n",
       "      <td>FUR-BO-10001798</td>\n",
       "      <td>Furniture</td>\n",
       "      <td>Bookcases</td>\n",
       "      <td>Bush Somerset Collection Bookcase</td>\n",
       "      <td>261.96</td>\n",
       "      <td>2</td>\n",
       "      <td>0.0</td>\n",
       "      <td>41.9136</td>\n",
       "      <td>11</td>\n",
       "      <td>2016</td>\n",
       "    </tr>\n",
       "    <tr>\n",
       "      <th>1</th>\n",
       "      <td>2</td>\n",
       "      <td>CA-2016-152156</td>\n",
       "      <td>2016-11-08</td>\n",
       "      <td>11/11/2016</td>\n",
       "      <td>Second Class</td>\n",
       "      <td>CG-12520</td>\n",
       "      <td>Claire Gute</td>\n",
       "      <td>Consumer</td>\n",
       "      <td>United States</td>\n",
       "      <td>Henderson</td>\n",
       "      <td>...</td>\n",
       "      <td>FUR-CH-10000454</td>\n",
       "      <td>Furniture</td>\n",
       "      <td>Chairs</td>\n",
       "      <td>Hon Deluxe Fabric Upholstered Stacking Chairs,...</td>\n",
       "      <td>731.94</td>\n",
       "      <td>3</td>\n",
       "      <td>0.0</td>\n",
       "      <td>219.5820</td>\n",
       "      <td>11</td>\n",
       "      <td>2016</td>\n",
       "    </tr>\n",
       "  </tbody>\n",
       "</table>\n",
       "<p>2 rows × 23 columns</p>\n",
       "</div>"
      ],
      "text/plain": [
       "   Row ID        Order ID Order Date   Ship Date     Ship Mode Customer ID  \\\n",
       "0       1  CA-2016-152156 2016-11-08  11/11/2016  Second Class    CG-12520   \n",
       "1       2  CA-2016-152156 2016-11-08  11/11/2016  Second Class    CG-12520   \n",
       "\n",
       "  Customer Name   Segment        Country       City  ...       Product ID  \\\n",
       "0   Claire Gute  Consumer  United States  Henderson  ...  FUR-BO-10001798   \n",
       "1   Claire Gute  Consumer  United States  Henderson  ...  FUR-CH-10000454   \n",
       "\n",
       "    Category Sub-Category                                       Product Name  \\\n",
       "0  Furniture    Bookcases                  Bush Somerset Collection Bookcase   \n",
       "1  Furniture       Chairs  Hon Deluxe Fabric Upholstered Stacking Chairs,...   \n",
       "\n",
       "    Sales Quantity Discount    Profit  Month  Year  \n",
       "0  261.96        2      0.0   41.9136     11  2016  \n",
       "1  731.94        3      0.0  219.5820     11  2016  \n",
       "\n",
       "[2 rows x 23 columns]"
      ]
     },
     "execution_count": 14,
     "metadata": {},
     "output_type": "execute_result"
    }
   ],
   "source": [
    "df1= df.copy()\n",
    "df1.head(2)"
   ]
  },
  {
   "cell_type": "markdown",
   "metadata": {},
   "source": [
    "# Exploratory Data Analysis (EDA):\n",
    "# Univariate Analysis:"
   ]
  },
  {
   "cell_type": "code",
   "execution_count": 15,
   "metadata": {},
   "outputs": [
    {
     "data": {
      "image/png": "[encoded data removed]",
      "text/plain": [
       "<Figure size 800x600 with 1 Axes>"
      ]
     },
     "metadata": {},
     "output_type": "display_data"
    }
   ],
   "source": [
    "#Histogram for sales amount\n",
    "plt.figure(figsize=(8, 6))\n",
    "sns.histplot(df1['Sales'], kde=True)\n",
    "plt.title('Distribution of Sales Amount')\n",
    "plt.show()\n"
   ]
  },
  {
   "cell_type": "code",
   "execution_count": 16,
   "metadata": {},
   "outputs": [
    {
     "data": {
      "image/png": "[encoded data removed]",
      "text/plain": [
       "<Figure size 1000x600 with 1 Axes>"
      ]
     },
     "metadata": {},
     "output_type": "display_data"
    }
   ],
   "source": [
    "# Bar chart for product categories\n",
    "plt.figure(figsize=(10, 6))\n",
    "sns.countplot(x='Sub-Category', data=df1)\n",
    "plt.title('Product Category Counts')\n",
    "plt.xticks(rotation=45)\n",
    "plt.show()"
   ]
  },
  {
   "cell_type": "markdown",
   "metadata": {},
   "source": [
    "# LMS\n",
    "# Epic 4: Perform some queries"
   ]
  },
  {
   "cell_type": "code",
   "execution_count": 17,
   "metadata": {},
   "outputs": [
    {
     "name": "stdout",
     "output_type": "stream",
     "text": [
      "Category with Maximum Sales Revenue:\n",
      "Category\n",
      "Technology    836154.033\n",
      "Name: Sales, dtype: float64\n"
     ]
    }
   ],
   "source": [
    "#Category with Maximum Sales Revenue:\n",
    "category_sales = df1.groupby('Category')['Sales'].sum().sort_values(ascending=False)\n",
    "print(\"Category with Maximum Sales Revenue:\")\n",
    "print(category_sales.head(1))"
   ]
  },
  {
   "cell_type": "code",
   "execution_count": 18,
   "metadata": {},
   "outputs": [
    {
     "name": "stdout",
     "output_type": "stream",
     "text": [
      "Profit in Technology: 145454.9481\n"
     ]
    }
   ],
   "source": [
    "#  Profit in the Maximum Sales Category:\n",
    "if 'Profit' in df1.columns:\n",
    "    max_sales_category = category_sales.index[0]\n",
    "    category_profit = df1[df1['Category'] == max_sales_category]['Profit'].sum()\n",
    "    print(f\"Profit in {max_sales_category}: {category_profit}\")"
   ]
  },
  {
   "cell_type": "code",
   "execution_count": 19,
   "metadata": {},
   "outputs": [
    {
     "name": "stdout",
     "output_type": "stream",
     "text": [
      "Categories with Loss:\n",
      "Series([], Name: Profit, dtype: float64)\n"
     ]
    }
   ],
   "source": [
    "# Loss in Any Categories:\n",
    "if 'Profit' in df1.columns:\n",
    "    category_profits = df1.groupby('Category')['Profit'].sum()\n",
    "    loss_categories = category_profits[category_profits < 0]\n",
    "    print(\"Categories with Loss:\")\n",
    "    print(loss_categories)"
   ]
  },
  {
   "cell_type": "code",
   "execution_count": 20,
   "metadata": {},
   "outputs": [
    {
     "name": "stdout",
     "output_type": "stream",
     "text": [
      "Top 5 States by Sales Revenue (Minimum):\n",
      "State\n",
      "North Dakota      919.910\n",
      "West Virginia    1209.824\n",
      "Maine            1270.530\n",
      "South Dakota     1315.560\n",
      "Wyoming          1603.136\n",
      "Name: Sales, dtype: float64\n",
      "\n",
      "Top 5 States by Sales Revenue (Maximum):\n",
      "State\n",
      "Pennsylvania    116511.9140\n",
      "Washington      138641.2700\n",
      "Texas           170188.0458\n",
      "New York        310876.2710\n",
      "California      457687.6315\n",
      "Name: Sales, dtype: float64\n"
     ]
    }
   ],
   "source": [
    "# Top 5 States by Sales Revenue (Maximum and Minimum):\n",
    "state_sales = df1.groupby('State')['Sales'].sum().sort_values()\n",
    "print(\"Top 5 States by Sales Revenue (Minimum):\")\n",
    "print(state_sales.head(5))\n",
    "print(\"\\nTop 5 States by Sales Revenue (Maximum):\")\n",
    "print(state_sales.tail(5))\n"
   ]
  },
  {
   "cell_type": "code",
   "execution_count": 21,
   "metadata": {},
   "outputs": [
    {
     "name": "stdout",
     "output_type": "stream",
     "text": [
      "\n",
      "Top 3 Products in Each Segment by Sales:\n",
      "                                                       Product Name      Sales\n",
      "Segment                                                                       \n",
      "Consumer    8153              Canon imageCLASS 2200 Advanced Copier  13999.960\n",
      "            4190              Canon imageCLASS 2200 Advanced Copier  10499.970\n",
      "            9039   GBC Ibimaster 500 Manual ProClick Binding System   9892.740\n",
      "Corporate   6826              Canon imageCLASS 2200 Advanced Copier  17499.950\n",
      "            4277   3D Systems Cube Printer, 2nd Generation, Magenta   9099.930\n",
      "            683           Cubify CubeX 3D Printer Triple Head Print   7999.980\n",
      "Home Office 2697  Cisco TelePresence System EX90 Videoconferenci...  22638.480\n",
      "            2623              Canon imageCLASS 2200 Advanced Copier  11199.968\n",
      "            7666               Hewlett Packard LaserJet 3310 Copier   5399.910\n"
     ]
    }
   ],
   "source": [
    "#  Top 3 Products in Each Product Segment by Sales:\n",
    "def top_products_by_sales(group):\n",
    "    return group.sort_values(by='Sales', ascending=False).head(3)\n",
    "\n",
    "top_products_segment_sales = df1.groupby('Segment').apply(top_products_by_sales)\n",
    "print(\"\\nTop 3 Products in Each Segment by Sales:\")\n",
    "print(top_products_segment_sales[['Product Name', 'Sales']])"
   ]
  },
  {
   "cell_type": "code",
   "execution_count": 22,
   "metadata": {},
   "outputs": [
    {
     "name": "stdout",
     "output_type": "stream",
     "text": [
      "\n",
      "Segment: Consumer\n",
      "Top Sales Products: ['Canon imageCLASS 2200 Advanced Copier', 'Canon imageCLASS 2200 Advanced Copier', 'GBC Ibimaster 500 Manual ProClick Binding System']\n",
      "Top Profit Products: ['Canon imageCLASS 2200 Advanced Copier', 'Canon imageCLASS 2200 Advanced Copier', 'GBC Ibimaster 500 Manual ProClick Binding System']\n",
      "The top sales products are also the top profit products.\n",
      "\n",
      "Segment: Corporate\n",
      "Top Sales Products: ['Canon imageCLASS 2200 Advanced Copier', '3D Systems Cube Printer, 2nd Generation, Magenta', 'Cubify CubeX 3D Printer Triple Head Print']\n",
      "Top Profit Products: ['Canon imageCLASS 2200 Advanced Copier', '3D Systems Cube Printer, 2nd Generation, Magenta', 'Canon PC1060 Personal Laser Copier']\n",
      "The top sales products are NOT the top profit products.\n",
      "\n",
      "Segment: Home Office\n",
      "Top Sales Products: ['Cisco TelePresence System EX90 Videoconferencing Unit', 'Canon imageCLASS 2200 Advanced Copier', 'Hewlett Packard LaserJet 3310 Copier']\n",
      "Top Profit Products: ['Canon imageCLASS 2200 Advanced Copier', 'Hewlett Packard LaserJet 3310 Copier', 'Canon imageCLASS MF7460 Monochrome Digital Laser Multifunction Copier']\n",
      "The top sales products are NOT the top profit products.\n"
     ]
    }
   ],
   "source": [
    "# Are they the Top 3 Profitable Products?\n",
    "if 'Profit' in df1.columns:\n",
    "    def top_products_by_profit(group):\n",
    "        return group.sort_values(by='Profit', ascending=False).head(3)\n",
    "\n",
    "    top_products_segment_profit = df1.groupby('Segment').apply(top_products_by_profit)\n",
    "\n",
    "    for segment in df1['Segment'].unique():\n",
    "        sales_products = top_products_segment_sales.loc[segment]['Product Name'].tolist()\n",
    "        profit_products = top_products_segment_profit.loc[segment]['Product Name'].tolist()\n",
    "        print(f\"\\nSegment: {segment}\")\n",
    "        print(f\"Top Sales Products: {sales_products}\")\n",
    "        print(f\"Top Profit Products: {profit_products}\")\n",
    "        if sales_products == profit_products:\n",
    "            print(\"The top sales products are also the top profit products.\")\n",
    "        else:\n",
    "            print(\"The top sales products are NOT the top profit products.\")"
   ]
  },
  {
   "cell_type": "code",
   "execution_count": null,
   "metadata": {},
   "outputs": [
    {
     "name": "stdout",
     "output_type": "stream",
     "text": [
      "\n",
      "Top 3 Best-Seller Products in Each Segment (Quantity):\n",
      "                                                       Product Name  Quantity\n",
      "Segment                                                                      \n",
      "Consumer    6628                  PureGear Roll-On Screen Protector        14\n",
      "            660           Space Solutions Commercial Steel Shelving        14\n",
      "            113            OIC Colored Binder Clips, Assorted Sizes        14\n",
      "Corporate   2793                                      Pyle PMP37LED        14\n",
      "            8935                     Logitech Wireless Headset h800        14\n",
      "            1363                   Cardinal EasyOpen D-Ring Binders        14\n",
      "Home Office 9979                  Ibico Recycled Linen-Style Covers        14\n",
      "            2947  Wilson Jones Clip & Carry Folder Binder Tool f...        14\n",
      "            8521                              Ultra Door Push Plate        14\n"
     ]
    }
   ],
   "source": [
    "# Top 3 Best-Seller Products in Each Segment (Quantity):\n",
    "def top_products_by_quantity(group):\n",
    "    return group.sort_values(by='Quantity', ascending=False).head(3)\n",
    "\n",
    "top_products_segment_quantity = df1.groupby('Segment').apply(top_products_by_quantity)\n",
    "print(\"\\nTop 3 Best-Seller Products in Each Segment (Quantity):\")\n",
    "print(top_products_segment_quantity[['Product Name', 'Quantity']])\n"
   ]
  },
  {
   "cell_type": "code",
   "execution_count": 35,
   "metadata": {},
   "outputs": [
    {
     "data": {
      "text/html": [
       "<div>\n",
       "<style scoped>\n",
       "    .dataframe tbody tr th:only-of-type {\n",
       "        vertical-align: middle;\n",
       "    }\n",
       "\n",
       "    .dataframe tbody tr th {\n",
       "        vertical-align: top;\n",
       "    }\n",
       "\n",
       "    .dataframe thead th {\n",
       "        text-align: right;\n",
       "    }\n",
       "</style>\n",
       "<table border=\"1\" class=\"dataframe\">\n",
       "  <thead>\n",
       "    <tr style=\"text-align: right;\">\n",
       "      <th></th>\n",
       "      <th></th>\n",
       "      <th>Row ID</th>\n",
       "      <th>Order ID</th>\n",
       "      <th>Order Date</th>\n",
       "      <th>Ship Date</th>\n",
       "      <th>Ship Mode</th>\n",
       "      <th>Customer ID</th>\n",
       "      <th>Customer Name</th>\n",
       "      <th>Segment</th>\n",
       "      <th>Country</th>\n",
       "      <th>City</th>\n",
       "      <th>...</th>\n",
       "      <th>Product ID</th>\n",
       "      <th>Category</th>\n",
       "      <th>Sub-Category</th>\n",
       "      <th>Product Name</th>\n",
       "      <th>Sales</th>\n",
       "      <th>Quantity</th>\n",
       "      <th>Discount</th>\n",
       "      <th>Profit</th>\n",
       "      <th>Month</th>\n",
       "      <th>Year</th>\n",
       "    </tr>\n",
       "    <tr>\n",
       "      <th>Segment</th>\n",
       "      <th></th>\n",
       "      <th></th>\n",
       "      <th></th>\n",
       "      <th></th>\n",
       "      <th></th>\n",
       "      <th></th>\n",
       "      <th></th>\n",
       "      <th></th>\n",
       "      <th></th>\n",
       "      <th></th>\n",
       "      <th></th>\n",
       "      <th></th>\n",
       "      <th></th>\n",
       "      <th></th>\n",
       "      <th></th>\n",
       "      <th></th>\n",
       "      <th></th>\n",
       "      <th></th>\n",
       "      <th></th>\n",
       "      <th></th>\n",
       "      <th></th>\n",
       "      <th></th>\n",
       "    </tr>\n",
       "  </thead>\n",
       "  <tbody>\n",
       "    <tr>\n",
       "      <th rowspan=\"3\" valign=\"top\">Consumer</th>\n",
       "      <th>6628</th>\n",
       "      <td>6629</td>\n",
       "      <td>CA-2015-135489</td>\n",
       "      <td>2015-09-19</td>\n",
       "      <td>9/22/2015</td>\n",
       "      <td>Second Class</td>\n",
       "      <td>GW-14605</td>\n",
       "      <td>Giulietta Weimer</td>\n",
       "      <td>Consumer</td>\n",
       "      <td>United States</td>\n",
       "      <td>New York City</td>\n",
       "      <td>...</td>\n",
       "      <td>TEC-PH-10000011</td>\n",
       "      <td>Technology</td>\n",
       "      <td>Phones</td>\n",
       "      <td>PureGear Roll-On Screen Protector</td>\n",
       "      <td>279.860</td>\n",
       "      <td>14</td>\n",
       "      <td>0.0</td>\n",
       "      <td>134.3328</td>\n",
       "      <td>9</td>\n",
       "      <td>2015</td>\n",
       "    </tr>\n",
       "    <tr>\n",
       "      <th>660</th>\n",
       "      <td>661</td>\n",
       "      <td>CA-2015-146563</td>\n",
       "      <td>2015-08-24</td>\n",
       "      <td>8/28/2015</td>\n",
       "      <td>Standard Class</td>\n",
       "      <td>CB-12025</td>\n",
       "      <td>Cassandra Brandow</td>\n",
       "      <td>Consumer</td>\n",
       "      <td>United States</td>\n",
       "      <td>Arlington</td>\n",
       "      <td>...</td>\n",
       "      <td>OFF-ST-10001511</td>\n",
       "      <td>Office Supplies</td>\n",
       "      <td>Storage</td>\n",
       "      <td>Space Solutions Commercial Steel Shelving</td>\n",
       "      <td>724.080</td>\n",
       "      <td>14</td>\n",
       "      <td>0.2</td>\n",
       "      <td>-135.7650</td>\n",
       "      <td>8</td>\n",
       "      <td>2015</td>\n",
       "    </tr>\n",
       "    <tr>\n",
       "      <th>113</th>\n",
       "      <td>114</td>\n",
       "      <td>CA-2014-115259</td>\n",
       "      <td>2014-08-25</td>\n",
       "      <td>8/27/2014</td>\n",
       "      <td>Second Class</td>\n",
       "      <td>RC-19960</td>\n",
       "      <td>Ryan Crowe</td>\n",
       "      <td>Consumer</td>\n",
       "      <td>United States</td>\n",
       "      <td>Columbus</td>\n",
       "      <td>...</td>\n",
       "      <td>OFF-FA-10000621</td>\n",
       "      <td>Office Supplies</td>\n",
       "      <td>Fasteners</td>\n",
       "      <td>OIC Colored Binder Clips, Assorted Sizes</td>\n",
       "      <td>40.096</td>\n",
       "      <td>14</td>\n",
       "      <td>0.2</td>\n",
       "      <td>14.5348</td>\n",
       "      <td>8</td>\n",
       "      <td>2014</td>\n",
       "    </tr>\n",
       "    <tr>\n",
       "      <th rowspan=\"2\" valign=\"top\">Corporate</th>\n",
       "      <th>2793</th>\n",
       "      <td>2794</td>\n",
       "      <td>CA-2014-154599</td>\n",
       "      <td>2014-04-12</td>\n",
       "      <td>4/17/2014</td>\n",
       "      <td>Standard Class</td>\n",
       "      <td>KN-16450</td>\n",
       "      <td>Kean Nguyen</td>\n",
       "      <td>Corporate</td>\n",
       "      <td>United States</td>\n",
       "      <td>Redondo Beach</td>\n",
       "      <td>...</td>\n",
       "      <td>TEC-PH-10001557</td>\n",
       "      <td>Technology</td>\n",
       "      <td>Phones</td>\n",
       "      <td>Pyle PMP37LED</td>\n",
       "      <td>1075.088</td>\n",
       "      <td>14</td>\n",
       "      <td>0.2</td>\n",
       "      <td>94.0702</td>\n",
       "      <td>4</td>\n",
       "      <td>2014</td>\n",
       "    </tr>\n",
       "    <tr>\n",
       "      <th>8935</th>\n",
       "      <td>8936</td>\n",
       "      <td>CA-2017-130036</td>\n",
       "      <td>2017-08-27</td>\n",
       "      <td>8/27/2017</td>\n",
       "      <td>Same Day</td>\n",
       "      <td>BP-11185</td>\n",
       "      <td>Ben Peterman</td>\n",
       "      <td>Corporate</td>\n",
       "      <td>United States</td>\n",
       "      <td>Philadelphia</td>\n",
       "      <td>...</td>\n",
       "      <td>TEC-AC-10001908</td>\n",
       "      <td>Technology</td>\n",
       "      <td>Accessories</td>\n",
       "      <td>Logitech Wireless Headset h800</td>\n",
       "      <td>1119.888</td>\n",
       "      <td>14</td>\n",
       "      <td>0.2</td>\n",
       "      <td>209.9790</td>\n",
       "      <td>8</td>\n",
       "      <td>2017</td>\n",
       "    </tr>\n",
       "  </tbody>\n",
       "</table>\n",
       "<p>5 rows × 23 columns</p>\n",
       "</div>"
      ],
      "text/plain": [
       "                Row ID        Order ID Order Date  Ship Date       Ship Mode  \\\n",
       "Segment                                                                        \n",
       "Consumer  6628    6629  CA-2015-135489 2015-09-19  9/22/2015    Second Class   \n",
       "          660      661  CA-2015-146563 2015-08-24  8/28/2015  Standard Class   \n",
       "          113      114  CA-2014-115259 2014-08-25  8/27/2014    Second Class   \n",
       "Corporate 2793    2794  CA-2014-154599 2014-04-12  4/17/2014  Standard Class   \n",
       "          8935    8936  CA-2017-130036 2017-08-27  8/27/2017        Same Day   \n",
       "\n",
       "               Customer ID      Customer Name    Segment        Country  \\\n",
       "Segment                                                                   \n",
       "Consumer  6628    GW-14605   Giulietta Weimer   Consumer  United States   \n",
       "          660     CB-12025  Cassandra Brandow   Consumer  United States   \n",
       "          113     RC-19960         Ryan Crowe   Consumer  United States   \n",
       "Corporate 2793    KN-16450        Kean Nguyen  Corporate  United States   \n",
       "          8935    BP-11185       Ben Peterman  Corporate  United States   \n",
       "\n",
       "                         City  ...       Product ID         Category  \\\n",
       "Segment                        ...                                     \n",
       "Consumer  6628  New York City  ...  TEC-PH-10000011       Technology   \n",
       "          660       Arlington  ...  OFF-ST-10001511  Office Supplies   \n",
       "          113        Columbus  ...  OFF-FA-10000621  Office Supplies   \n",
       "Corporate 2793  Redondo Beach  ...  TEC-PH-10001557       Technology   \n",
       "          8935   Philadelphia  ...  TEC-AC-10001908       Technology   \n",
       "\n",
       "               Sub-Category                               Product Name  \\\n",
       "Segment                                                                  \n",
       "Consumer  6628       Phones          PureGear Roll-On Screen Protector   \n",
       "          660       Storage  Space Solutions Commercial Steel Shelving   \n",
       "          113     Fasteners   OIC Colored Binder Clips, Assorted Sizes   \n",
       "Corporate 2793       Phones                              Pyle PMP37LED   \n",
       "          8935  Accessories             Logitech Wireless Headset h800   \n",
       "\n",
       "                   Sales Quantity Discount    Profit  Month  Year  \n",
       "Segment                                                            \n",
       "Consumer  6628   279.860       14      0.0  134.3328      9  2015  \n",
       "          660    724.080       14      0.2 -135.7650      8  2015  \n",
       "          113     40.096       14      0.2   14.5348      8  2014  \n",
       "Corporate 2793  1075.088       14      0.2   94.0702      4  2014  \n",
       "          8935  1119.888       14      0.2  209.9790      8  2017  \n",
       "\n",
       "[5 rows x 23 columns]"
      ]
     },
     "execution_count": 35,
     "metadata": {},
     "output_type": "execute_result"
    }
   ],
   "source": [
    "Best =top_products_segment_quantity.copy()\n",
    "Best.head(5)"
   ]
  },
  {
   "cell_type": "code",
   "execution_count": 38,
   "metadata": {},
   "outputs": [
    {
     "data": {
      "image/png": "[encoded data removed]",
      "text/plain": [
       "<Figure size 600x400 with 1 Axes>"
      ]
     },
     "metadata": {},
     "output_type": "display_data"
    }
   ],
   "source": [
    "plt.figure(figsize=(6, 4))\n",
    "sns.scatterplot(x='Month', y='Sales', data= Best)\n",
    "plt.title('Sales Amount vs. Quantity')\n",
    "plt.show()"
   ]
  },
  {
   "cell_type": "code",
   "execution_count": 24,
   "metadata": {},
   "outputs": [
    {
     "name": "stdout",
     "output_type": "stream",
     "text": [
      "\n",
      "Top 3 Worst-Selling Products in Each Category (Quantity):\n",
      "                                                           Product Name  \\\n",
      "Category                                                                  \n",
      "Furniture       1354         Bretford Rectangular Conference Table Tops   \n",
      "                5826  Office Star Flex Back Scooter Chair with Alumi...   \n",
      "                5830                Global Stack Chair with Arms, Black   \n",
      "Office Supplies 4238  Boston 1827 Commercial Additional Cutter, Driv...   \n",
      "                8238  REDIFORM Incoming/Outgoing Call Register, 11\" ...   \n",
      "                2166                                         Newell 334   \n",
      "Technology      2538                Nortel Meridian M5316 Digital phone   \n",
      "                8018  Panasonic KX-TG6844B Expandable Digital Cordle...   \n",
      "                5814               Belkin Standard 104 key USB Keyboard   \n",
      "\n",
      "                      Quantity  \n",
      "Category                        \n",
      "Furniture       1354         1  \n",
      "                5826         1  \n",
      "                5830         1  \n",
      "Office Supplies 4238         1  \n",
      "                8238         1  \n",
      "                2166         1  \n",
      "Technology      2538         1  \n",
      "                8018         1  \n",
      "                5814         1  \n"
     ]
    }
   ],
   "source": [
    "# Top 3 Worst-Selling Products in Each Category (Quantity):\n",
    "def worst_products_by_quantity(group):\n",
    "    return group.sort_values(by='Quantity').head(3)\n",
    "\n",
    "worst_products_category_quantity = df1.groupby('Category').apply(worst_products_by_quantity)\n",
    "print(\"\\nTop 3 Worst-Selling Products in Each Category (Quantity):\")\n",
    "print(worst_products_category_quantity[['Product Name', 'Quantity']])"
   ]
  },
  {
   "cell_type": "code",
   "execution_count": 34,
   "metadata": {},
   "outputs": [
    {
     "data": {
      "text/html": [
       "<div>\n",
       "<style scoped>\n",
       "    .dataframe tbody tr th:only-of-type {\n",
       "        vertical-align: middle;\n",
       "    }\n",
       "\n",
       "    .dataframe tbody tr th {\n",
       "        vertical-align: top;\n",
       "    }\n",
       "\n",
       "    .dataframe thead th {\n",
       "        text-align: right;\n",
       "    }\n",
       "</style>\n",
       "<table border=\"1\" class=\"dataframe\">\n",
       "  <thead>\n",
       "    <tr style=\"text-align: right;\">\n",
       "      <th></th>\n",
       "      <th></th>\n",
       "      <th>Row ID</th>\n",
       "      <th>Order ID</th>\n",
       "      <th>Order Date</th>\n",
       "      <th>Ship Date</th>\n",
       "      <th>Ship Mode</th>\n",
       "      <th>Customer ID</th>\n",
       "      <th>Customer Name</th>\n",
       "      <th>Segment</th>\n",
       "      <th>Country</th>\n",
       "      <th>City</th>\n",
       "      <th>...</th>\n",
       "      <th>Product ID</th>\n",
       "      <th>Category</th>\n",
       "      <th>Sub-Category</th>\n",
       "      <th>Product Name</th>\n",
       "      <th>Sales</th>\n",
       "      <th>Quantity</th>\n",
       "      <th>Discount</th>\n",
       "      <th>Profit</th>\n",
       "      <th>Month</th>\n",
       "      <th>Year</th>\n",
       "    </tr>\n",
       "    <tr>\n",
       "      <th>Category</th>\n",
       "      <th></th>\n",
       "      <th></th>\n",
       "      <th></th>\n",
       "      <th></th>\n",
       "      <th></th>\n",
       "      <th></th>\n",
       "      <th></th>\n",
       "      <th></th>\n",
       "      <th></th>\n",
       "      <th></th>\n",
       "      <th></th>\n",
       "      <th></th>\n",
       "      <th></th>\n",
       "      <th></th>\n",
       "      <th></th>\n",
       "      <th></th>\n",
       "      <th></th>\n",
       "      <th></th>\n",
       "      <th></th>\n",
       "      <th></th>\n",
       "      <th></th>\n",
       "      <th></th>\n",
       "    </tr>\n",
       "  </thead>\n",
       "  <tbody>\n",
       "    <tr>\n",
       "      <th rowspan=\"3\" valign=\"top\">Furniture</th>\n",
       "      <th>1354</th>\n",
       "      <td>1355</td>\n",
       "      <td>CA-2017-162978</td>\n",
       "      <td>2017-05-04</td>\n",
       "      <td>5/9/2017</td>\n",
       "      <td>Standard Class</td>\n",
       "      <td>LW-16990</td>\n",
       "      <td>Lindsay Williams</td>\n",
       "      <td>Corporate</td>\n",
       "      <td>United States</td>\n",
       "      <td>San Francisco</td>\n",
       "      <td>...</td>\n",
       "      <td>FUR-TA-10003473</td>\n",
       "      <td>Furniture</td>\n",
       "      <td>Tables</td>\n",
       "      <td>Bretford Rectangular Conference Table Tops</td>\n",
       "      <td>300.904</td>\n",
       "      <td>1</td>\n",
       "      <td>0.2</td>\n",
       "      <td>11.2839</td>\n",
       "      <td>5</td>\n",
       "      <td>2017</td>\n",
       "    </tr>\n",
       "    <tr>\n",
       "      <th>5826</th>\n",
       "      <td>5827</td>\n",
       "      <td>CA-2017-161067</td>\n",
       "      <td>2017-09-03</td>\n",
       "      <td>9/6/2017</td>\n",
       "      <td>Second Class</td>\n",
       "      <td>KB-16405</td>\n",
       "      <td>Katrina Bavinger</td>\n",
       "      <td>Home Office</td>\n",
       "      <td>United States</td>\n",
       "      <td>New York City</td>\n",
       "      <td>...</td>\n",
       "      <td>FUR-CH-10004626</td>\n",
       "      <td>Furniture</td>\n",
       "      <td>Chairs</td>\n",
       "      <td>Office Star Flex Back Scooter Chair with Alumi...</td>\n",
       "      <td>90.801</td>\n",
       "      <td>1</td>\n",
       "      <td>0.1</td>\n",
       "      <td>14.1246</td>\n",
       "      <td>9</td>\n",
       "      <td>2017</td>\n",
       "    </tr>\n",
       "    <tr>\n",
       "      <th>5830</th>\n",
       "      <td>5831</td>\n",
       "      <td>CA-2016-122063</td>\n",
       "      <td>2016-12-03</td>\n",
       "      <td>12/7/2016</td>\n",
       "      <td>Standard Class</td>\n",
       "      <td>MM-17920</td>\n",
       "      <td>Michael Moore</td>\n",
       "      <td>Consumer</td>\n",
       "      <td>United States</td>\n",
       "      <td>Richmond</td>\n",
       "      <td>...</td>\n",
       "      <td>FUR-CH-10004754</td>\n",
       "      <td>Furniture</td>\n",
       "      <td>Chairs</td>\n",
       "      <td>Global Stack Chair with Arms, Black</td>\n",
       "      <td>29.980</td>\n",
       "      <td>1</td>\n",
       "      <td>0.0</td>\n",
       "      <td>8.0946</td>\n",
       "      <td>12</td>\n",
       "      <td>2016</td>\n",
       "    </tr>\n",
       "  </tbody>\n",
       "</table>\n",
       "<p>3 rows × 23 columns</p>\n",
       "</div>"
      ],
      "text/plain": [
       "                Row ID        Order ID Order Date  Ship Date       Ship Mode  \\\n",
       "Category                                                                       \n",
       "Furniture 1354    1355  CA-2017-162978 2017-05-04   5/9/2017  Standard Class   \n",
       "          5826    5827  CA-2017-161067 2017-09-03   9/6/2017    Second Class   \n",
       "          5830    5831  CA-2016-122063 2016-12-03  12/7/2016  Standard Class   \n",
       "\n",
       "               Customer ID     Customer Name      Segment        Country  \\\n",
       "Category                                                                   \n",
       "Furniture 1354    LW-16990  Lindsay Williams    Corporate  United States   \n",
       "          5826    KB-16405  Katrina Bavinger  Home Office  United States   \n",
       "          5830    MM-17920     Michael Moore     Consumer  United States   \n",
       "\n",
       "                         City  ...       Product ID   Category Sub-Category  \\\n",
       "Category                       ...                                            \n",
       "Furniture 1354  San Francisco  ...  FUR-TA-10003473  Furniture       Tables   \n",
       "          5826  New York City  ...  FUR-CH-10004626  Furniture       Chairs   \n",
       "          5830       Richmond  ...  FUR-CH-10004754  Furniture       Chairs   \n",
       "\n",
       "                                                     Product Name    Sales  \\\n",
       "Category                                                                     \n",
       "Furniture 1354         Bretford Rectangular Conference Table Tops  300.904   \n",
       "          5826  Office Star Flex Back Scooter Chair with Alumi...   90.801   \n",
       "          5830                Global Stack Chair with Arms, Black   29.980   \n",
       "\n",
       "               Quantity Discount   Profit  Month  Year  \n",
       "Category                                                \n",
       "Furniture 1354        1      0.2  11.2839      5  2017  \n",
       "          5826        1      0.1  14.1246      9  2017  \n",
       "          5830        1      0.0   8.0946     12  2016  \n",
       "\n",
       "[3 rows x 23 columns]"
      ]
     },
     "execution_count": 34,
     "metadata": {},
     "output_type": "execute_result"
    }
   ],
   "source": [
    "Worst = worst_products_category_quantity.copy()\n",
    "Worst.head(3)"
   ]
  },
  {
   "cell_type": "code",
   "execution_count": 25,
   "metadata": {},
   "outputs": [
    {
     "name": "stdout",
     "output_type": "stream",
     "text": [
      "\n",
      "Unique Customers per Month for 2016:\n",
      "Month\n",
      "1      46\n",
      "2      42\n",
      "3      80\n",
      "4      83\n",
      "5      96\n",
      "6      90\n",
      "7      89\n",
      "8      86\n",
      "9     176\n",
      "10     95\n",
      "11    165\n",
      "12    157\n",
      "Name: Customer ID, dtype: int64\n"
     ]
    }
   ],
   "source": [
    "# Unique Customers per Month for 2016:\n",
    "customers_2016 = df1[df1['Year'] == 2016]\n",
    "unique_customers_per_month = customers_2016.groupby('Month')['Customer ID'].nunique()\n",
    "print(\"\\nUnique Customers per Month for 2016:\")\n",
    "print(unique_customers_per_month)"
   ]
  },
  {
   "cell_type": "markdown",
   "metadata": {},
   "source": [
    "# Further Analysis"
   ]
  },
  {
   "cell_type": "code",
   "execution_count": 26,
   "metadata": {},
   "outputs": [
    {
     "data": {
      "text/html": [
       "<div>\n",
       "<style scoped>\n",
       "    .dataframe tbody tr th:only-of-type {\n",
       "        vertical-align: middle;\n",
       "    }\n",
       "\n",
       "    .dataframe tbody tr th {\n",
       "        vertical-align: top;\n",
       "    }\n",
       "\n",
       "    .dataframe thead th {\n",
       "        text-align: right;\n",
       "    }\n",
       "</style>\n",
       "<table border=\"1\" class=\"dataframe\">\n",
       "  <thead>\n",
       "    <tr style=\"text-align: right;\">\n",
       "      <th></th>\n",
       "      <th>Row ID</th>\n",
       "      <th>Order ID</th>\n",
       "      <th>Order Date</th>\n",
       "      <th>Ship Date</th>\n",
       "      <th>Ship Mode</th>\n",
       "      <th>Customer ID</th>\n",
       "      <th>Customer Name</th>\n",
       "      <th>Segment</th>\n",
       "      <th>Country</th>\n",
       "      <th>City</th>\n",
       "      <th>...</th>\n",
       "      <th>Product ID</th>\n",
       "      <th>Category</th>\n",
       "      <th>Sub-Category</th>\n",
       "      <th>Product Name</th>\n",
       "      <th>Sales</th>\n",
       "      <th>Quantity</th>\n",
       "      <th>Discount</th>\n",
       "      <th>Profit</th>\n",
       "      <th>Month</th>\n",
       "      <th>Year</th>\n",
       "    </tr>\n",
       "  </thead>\n",
       "  <tbody>\n",
       "    <tr>\n",
       "      <th>0</th>\n",
       "      <td>1</td>\n",
       "      <td>CA-2016-152156</td>\n",
       "      <td>2016-11-08</td>\n",
       "      <td>11/11/2016</td>\n",
       "      <td>Second Class</td>\n",
       "      <td>CG-12520</td>\n",
       "      <td>Claire Gute</td>\n",
       "      <td>Consumer</td>\n",
       "      <td>United States</td>\n",
       "      <td>Henderson</td>\n",
       "      <td>...</td>\n",
       "      <td>FUR-BO-10001798</td>\n",
       "      <td>Furniture</td>\n",
       "      <td>Bookcases</td>\n",
       "      <td>Bush Somerset Collection Bookcase</td>\n",
       "      <td>261.96</td>\n",
       "      <td>2</td>\n",
       "      <td>0.0</td>\n",
       "      <td>41.9136</td>\n",
       "      <td>11</td>\n",
       "      <td>2016</td>\n",
       "    </tr>\n",
       "    <tr>\n",
       "      <th>1</th>\n",
       "      <td>2</td>\n",
       "      <td>CA-2016-152156</td>\n",
       "      <td>2016-11-08</td>\n",
       "      <td>11/11/2016</td>\n",
       "      <td>Second Class</td>\n",
       "      <td>CG-12520</td>\n",
       "      <td>Claire Gute</td>\n",
       "      <td>Consumer</td>\n",
       "      <td>United States</td>\n",
       "      <td>Henderson</td>\n",
       "      <td>...</td>\n",
       "      <td>FUR-CH-10000454</td>\n",
       "      <td>Furniture</td>\n",
       "      <td>Chairs</td>\n",
       "      <td>Hon Deluxe Fabric Upholstered Stacking Chairs,...</td>\n",
       "      <td>731.94</td>\n",
       "      <td>3</td>\n",
       "      <td>0.0</td>\n",
       "      <td>219.5820</td>\n",
       "      <td>11</td>\n",
       "      <td>2016</td>\n",
       "    </tr>\n",
       "  </tbody>\n",
       "</table>\n",
       "<p>2 rows × 23 columns</p>\n",
       "</div>"
      ],
      "text/plain": [
       "   Row ID        Order ID Order Date   Ship Date     Ship Mode Customer ID  \\\n",
       "0       1  CA-2016-152156 2016-11-08  11/11/2016  Second Class    CG-12520   \n",
       "1       2  CA-2016-152156 2016-11-08  11/11/2016  Second Class    CG-12520   \n",
       "\n",
       "  Customer Name   Segment        Country       City  ...       Product ID  \\\n",
       "0   Claire Gute  Consumer  United States  Henderson  ...  FUR-BO-10001798   \n",
       "1   Claire Gute  Consumer  United States  Henderson  ...  FUR-CH-10000454   \n",
       "\n",
       "    Category Sub-Category                                       Product Name  \\\n",
       "0  Furniture    Bookcases                  Bush Somerset Collection Bookcase   \n",
       "1  Furniture       Chairs  Hon Deluxe Fabric Upholstered Stacking Chairs,...   \n",
       "\n",
       "    Sales Quantity Discount    Profit  Month  Year  \n",
       "0  261.96        2      0.0   41.9136     11  2016  \n",
       "1  731.94        3      0.0  219.5820     11  2016  \n",
       "\n",
       "[2 rows x 23 columns]"
      ]
     },
     "execution_count": 26,
     "metadata": {},
     "output_type": "execute_result"
    }
   ],
   "source": [
    "df1.head(2)"
   ]
  },
  {
   "cell_type": "code",
   "execution_count": 27,
   "metadata": {},
   "outputs": [
    {
     "data": {
      "image/png": "[encoded data removed]",
      "text/plain": [
       "<Figure size 600x400 with 1 Axes>"
      ]
     },
     "metadata": {},
     "output_type": "display_data"
    }
   ],
   "source": [
    "#Scatter plot of sales amount vs. quantity\n",
    "plt.figure(figsize=(6, 4))\n",
    "sns.scatterplot(x='Quantity', y='Sales', data=df1)\n",
    "plt.title('Sales Amount vs. Quantity')\n",
    "plt.show()"
   ]
  },
  {
   "cell_type": "code",
   "execution_count": 28,
   "metadata": {},
   "outputs": [
    {
     "data": {
      "image/png": "[encoded data removed]",
      "text/plain": [
       "<Figure size 1200x600 with 1 Axes>"
      ]
     },
     "metadata": {},
     "output_type": "display_data"
    }
   ],
   "source": [
    "# Box plot of sales amount by product category\n",
    "plt.figure(figsize=(12, 6))\n",
    "sns.boxplot(x='Sub-Category', y='Sales', data=df1)\n",
    "plt.title('Sales Amount by Product Category')\n",
    "plt.xticks(rotation=45)\n",
    "plt.show()"
   ]
  },
  {
   "cell_type": "code",
   "execution_count": 29,
   "metadata": {},
   "outputs": [],
   "source": [
    "# Heatmap of numerical column correlations.\n",
    "# plt.figure(figsize = (10,8))\n",
    "# sns.heatmap(df.corr(), annot = True, cmap = 'coolwarm')\n",
    "# plt.show()"
   ]
  },
  {
   "cell_type": "markdown",
   "metadata": {},
   "source": [
    "# Time Series Analysis"
   ]
  },
  {
   "cell_type": "code",
   "execution_count": 30,
   "metadata": {},
   "outputs": [
    {
     "data": {
      "image/png": "[encoded data removed]",
      "text/plain": [
       "<Figure size 1200x600 with 1 Axes>"
      ]
     },
     "metadata": {},
     "output_type": "display_data"
    }
   ],
   "source": [
    "# Line plot of sales over time\n",
    "plt.figure(figsize=(12, 6))\n",
    "df1.groupby('Month')['Sales'].sum().plot()\n",
    "plt.title('Sales Trend Over Time')\n",
    "plt.show()"
   ]
  },
  {
   "cell_type": "code",
   "execution_count": 31,
   "metadata": {},
   "outputs": [
    {
     "data": {
      "image/png": "[encoded data removed]",
      "text/plain": [
       "<Figure size 1200x600 with 1 Axes>"
      ]
     },
     "metadata": {},
     "output_type": "display_data"
    }
   ],
   "source": [
    "plt.figure(figsize=(12, 6))\n",
    "df1.groupby('Year')['Sales'].sum().plot()\n",
    "plt.title('Sales Trend Over Time')\n",
    "plt.show()"
   ]
  }
 ],
 "metadata": {
  "kernelspec": {
   "display_name": "CodeAcadamyBerlinCAB",
   "language": "python",
   "name": "python3"
  },
  "language_info": {
   "codemirror_mode": {
    "name": "ipython",
    "version": 3
   },
   "file_extension": ".py",
   "mimetype": "text/x-python",
   "name": "python",
   "nbconvert_exporter": "python",
   "pygments_lexer": "ipython3",
   "version": "3.12.7"
  }
 },
 "nbformat": 4,
 "nbformat_minor": 2
}
