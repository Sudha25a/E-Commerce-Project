{
 "cells": [
  {
   "cell_type": "code",
   "execution_count": 12,
   "metadata": {},
   "outputs": [],
   "source": [
    "import numpy as np\n",
    "import pandas as pd\n",
    "import seaborn as sns\n",
    "import sqlite3\n",
    "import os\n",
    "from sqlite3 import Error"
   ]
  },
  {
   "cell_type": "code",
   "execution_count": 13,
   "metadata": {},
   "outputs": [],
   "source": [
    "df = pd.read_csv(\"Sample-Superstore.csv\", encoding='latin-1')"
   ]
  },
  {
   "cell_type": "code",
   "execution_count": 14,
   "metadata": {},
   "outputs": [
    {
     "name": "stdout",
     "output_type": "stream",
     "text": [
      "<class 'pandas.core.frame.DataFrame'>\n",
      "RangeIndex: 9994 entries, 0 to 9993\n",
      "Data columns (total 21 columns):\n",
      " #   Column         Non-Null Count  Dtype  \n",
      "---  ------         --------------  -----  \n",
      " 0   Row ID         9994 non-null   int64  \n",
      " 1   Order ID       9994 non-null   object \n",
      " 2   Order Date     9994 non-null   object \n",
      " 3   Ship Date      9994 non-null   object \n",
      " 4   Ship Mode      9994 non-null   object \n",
      " 5   Customer ID    9994 non-null   object \n",
      " 6   Customer Name  9994 non-null   object \n",
      " 7   Segment        9994 non-null   object \n",
      " 8   Country        9994 non-null   object \n",
      " 9   City           9994 non-null   object \n",
      " 10  State          9994 non-null   object \n",
      " 11  Postal Code    9994 non-null   int64  \n",
      " 12  Region         9994 non-null   object \n",
      " 13  Product ID     9994 non-null   object \n",
      " 14  Category       9994 non-null   object \n",
      " 15  Sub-Category   9994 non-null   object \n",
      " 16  Product Name   9994 non-null   object \n",
      " 17  Sales          9994 non-null   float64\n",
      " 18  Quantity       9994 non-null   int64  \n",
      " 19  Discount       9994 non-null   float64\n",
      " 20  Profit         9994 non-null   float64\n",
      "dtypes: float64(3), int64(3), object(15)\n",
      "memory usage: 1.6+ MB\n"
     ]
    }
   ],
   "source": [
    "df.info()"
   ]
  },
  {
   "cell_type": "code",
   "execution_count": 15,
   "metadata": {},
   "outputs": [],
   "source": [
    "# df['Month'] = df['Order Date'].dt.month\n",
    "# df['Year'] = df['Order Date'].dt.year"
   ]
  },
  {
   "cell_type": "code",
   "execution_count": 16,
   "metadata": {},
   "outputs": [],
   "source": [
    "df = df.drop(columns=['Row ID'])\n",
    "df = df.rename(columns={'Order ID': 'OrderID', 'Customer ID': 'CustomerID', 'Product ID': 'ProductID'})"
   ]
  },
  {
   "cell_type": "code",
   "execution_count": 17,
   "metadata": {},
   "outputs": [
    {
     "data": {
      "text/html": [
       "<div>\n",
       "<style scoped>\n",
       "    .dataframe tbody tr th:only-of-type {\n",
       "        vertical-align: middle;\n",
       "    }\n",
       "\n",
       "    .dataframe tbody tr th {\n",
       "        vertical-align: top;\n",
       "    }\n",
       "\n",
       "    .dataframe thead th {\n",
       "        text-align: right;\n",
       "    }\n",
       "</style>\n",
       "<table border=\"1\" class=\"dataframe\">\n",
       "  <thead>\n",
       "    <tr style=\"text-align: right;\">\n",
       "      <th></th>\n",
       "      <th>OrderID</th>\n",
       "      <th>Order Date</th>\n",
       "      <th>Ship Date</th>\n",
       "      <th>Ship Mode</th>\n",
       "      <th>CustomerID</th>\n",
       "      <th>Customer Name</th>\n",
       "      <th>Segment</th>\n",
       "      <th>Country</th>\n",
       "      <th>City</th>\n",
       "      <th>State</th>\n",
       "      <th>...</th>\n",
       "      <th>Region</th>\n",
       "      <th>ProductID</th>\n",
       "      <th>Category</th>\n",
       "      <th>Sub-Category</th>\n",
       "      <th>Product Name</th>\n",
       "      <th>Sales</th>\n",
       "      <th>Quantity</th>\n",
       "      <th>Discount</th>\n",
       "      <th>Profit</th>\n",
       "      <th>CategoryID</th>\n",
       "    </tr>\n",
       "  </thead>\n",
       "  <tbody>\n",
       "    <tr>\n",
       "      <th>0</th>\n",
       "      <td>CA-2016-152156</td>\n",
       "      <td>11/8/2016</td>\n",
       "      <td>11/11/2016</td>\n",
       "      <td>Second Class</td>\n",
       "      <td>CG-12520</td>\n",
       "      <td>Claire Gute</td>\n",
       "      <td>Consumer</td>\n",
       "      <td>United States</td>\n",
       "      <td>Henderson</td>\n",
       "      <td>Kentucky</td>\n",
       "      <td>...</td>\n",
       "      <td>South</td>\n",
       "      <td>FUR-BO-10001798</td>\n",
       "      <td>Furniture</td>\n",
       "      <td>Bookcases</td>\n",
       "      <td>Bush Somerset Collection Bookcase</td>\n",
       "      <td>261.96</td>\n",
       "      <td>2</td>\n",
       "      <td>0.0</td>\n",
       "      <td>41.9136</td>\n",
       "      <td>1</td>\n",
       "    </tr>\n",
       "    <tr>\n",
       "      <th>1</th>\n",
       "      <td>CA-2016-152156</td>\n",
       "      <td>11/8/2016</td>\n",
       "      <td>11/11/2016</td>\n",
       "      <td>Second Class</td>\n",
       "      <td>CG-12520</td>\n",
       "      <td>Claire Gute</td>\n",
       "      <td>Consumer</td>\n",
       "      <td>United States</td>\n",
       "      <td>Henderson</td>\n",
       "      <td>Kentucky</td>\n",
       "      <td>...</td>\n",
       "      <td>South</td>\n",
       "      <td>FUR-CH-10000454</td>\n",
       "      <td>Furniture</td>\n",
       "      <td>Chairs</td>\n",
       "      <td>Hon Deluxe Fabric Upholstered Stacking Chairs,...</td>\n",
       "      <td>731.94</td>\n",
       "      <td>3</td>\n",
       "      <td>0.0</td>\n",
       "      <td>219.5820</td>\n",
       "      <td>1</td>\n",
       "    </tr>\n",
       "  </tbody>\n",
       "</table>\n",
       "<p>2 rows × 21 columns</p>\n",
       "</div>"
      ],
      "text/plain": [
       "          OrderID Order Date   Ship Date     Ship Mode CustomerID  \\\n",
       "0  CA-2016-152156  11/8/2016  11/11/2016  Second Class   CG-12520   \n",
       "1  CA-2016-152156  11/8/2016  11/11/2016  Second Class   CG-12520   \n",
       "\n",
       "  Customer Name   Segment        Country       City     State  ...  Region  \\\n",
       "0   Claire Gute  Consumer  United States  Henderson  Kentucky  ...   South   \n",
       "1   Claire Gute  Consumer  United States  Henderson  Kentucky  ...   South   \n",
       "\n",
       "         ProductID   Category Sub-Category  \\\n",
       "0  FUR-BO-10001798  Furniture    Bookcases   \n",
       "1  FUR-CH-10000454  Furniture       Chairs   \n",
       "\n",
       "                                        Product Name   Sales  Quantity  \\\n",
       "0                  Bush Somerset Collection Bookcase  261.96         2   \n",
       "1  Hon Deluxe Fabric Upholstered Stacking Chairs,...  731.94         3   \n",
       "\n",
       "   Discount    Profit  CategoryID  \n",
       "0       0.0   41.9136           1  \n",
       "1       0.0  219.5820           1  \n",
       "\n",
       "[2 rows x 21 columns]"
      ]
     },
     "execution_count": 17,
     "metadata": {},
     "output_type": "execute_result"
    }
   ],
   "source": [
    "# Get unique categories\n",
    "unique_categories = df['Category'].unique()\n",
    "\n",
    "# Create a mapping of category names to IDs\n",
    "category_id_mapping = {category: idx + 1 for idx, category in enumerate(unique_categories)}\n",
    "\n",
    "# Add a Category ID column to the DataFrame\n",
    "df['CategoryID'] = df['Category'].map(category_id_mapping)\n",
    "df.head(2)"
   ]
  },
  {
   "cell_type": "code",
   "execution_count": 18,
   "metadata": {},
   "outputs": [],
   "source": [
    "dfC = sqlite3.connect(\"superstore_database.db\")"
   ]
  },
  {
   "cell_type": "code",
   "execution_count": 19,
   "metadata": {},
   "outputs": [],
   "source": [
    "c = dfC.cursor()"
   ]
  },
  {
   "cell_type": "code",
   "execution_count": 20,
   "metadata": {},
   "outputs": [
    {
     "data": {
      "text/plain": [
       "<sqlite3.Cursor at 0x189903be840>"
      ]
     },
     "execution_count": 20,
     "metadata": {},
     "output_type": "execute_result"
    }
   ],
   "source": [
    "c.execute('''\n",
    "CREATE TABLE IF NOT EXISTS \"Customer\" (\n",
    "\t\"CustomerID\"\tCHAR(30) NOT NULL,\n",
    "\t\"Customer Name\"\tVARCHAR(30) NOT NULL,\n",
    "\t\"Segment\"\tVARCHAR(15) NOT NULL,\n",
    "\tPRIMARY KEY(\"CustomerID\")\n",
    ");\n",
    "''')\n",
    "\n",
    "c.execute('''\n",
    "CREATE TABLE IF NOT EXISTS \"Address\" (\n",
    "\t\"Address_ID\" INTEGER PRIMARY KEY AUTOINCREMENT,\n",
    "    \"Country\" text NOT NULL,\n",
    "    \"City\" text NOT NULL,\n",
    "    \"State\" text NOT NULL,\n",
    "    \"Postal Code\" integer NOT NULL,\n",
    "    \"Region\" text NOT NULL\n",
    ");\n",
    "''')\n",
    "\n",
    "c.execute('''\n",
    "CREATE TABLE IF NOT EXISTS \"Product\" (\n",
    "\t\"ProductID\"\tCHAR(20) NOT NULL,\n",
    "    \"Product Name\"\tVARCHAR(30) NOT NULL,\n",
    "    \"CategoryID\"\tVARCHAR(30) NOT NULL,\n",
    "\tPRIMARY KEY(\"ProductID\")\n",
    "\tFOREIGN KEY(CategoryID) REFERENCES Product_Category(CategoryID)\n",
    ");\n",
    "''')\n",
    "\n",
    "c.execute('''\n",
    "CREATE TABLE IF NOT EXISTS \"Category\" (\n",
    "\t\"CategoryID\" CHAR(20) NOT NULL,\n",
    "\t\"Category\" VARCHAR(30) NOT NULL,\n",
    "\t\"Sub-Category\" VARCHAR(30) NOT NULL,\n",
    "\tPRIMARY KEY(\"CategoryID\")\n",
    ");\n",
    "''')\n",
    "\n",
    "c.execute('''\n",
    "CREATE TABLE IF NOT EXISTS \"Order\" (\n",
    "\t\"OrderID\" CHAR(20) NOT NULL,\n",
    "\t\"Order Date\" date NOT NULL,\n",
    "    \"Ship Date\" date NOT NULL, \n",
    "    \"Ship Mode\" varchar NOT NULL,\n",
    "    \"CustomerID\" varchar NOT NULL,\n",
    "\tPRIMARY KEY(\"OrderID\"),\n",
    "\tFOREIGN KEY(CustomerID) REFERENCES Customer_Details(Customer_ID)\n",
    ");\n",
    "''')\n",
    "\n",
    "c.execute('''\n",
    "CREATE TABLE IF NOT EXISTS \"Sales\" (\n",
    "        \"Sales\" integer NOT NULL,\n",
    "    \"Quantity\"  integer NOT NULL,\n",
    "    \"Discount\"  integer NOT NULL,\n",
    "    \"Profit\"  integer NOT NULL,\n",
    "    \"OrderID\" INTEGER NOT NULL,\n",
    "    \"ProductID\" INTEGER NOT NULL,\n",
    "    PRIMARY KEY(\"OrderID\", \"ProductID\"),\n",
    "    FOREIGN KEY(OrderID) REFERENCES Order_Details(OrderID),\n",
    "    FOREIGN KEY(ProductID) REFERENCES Product_Details(ProductID)\n",
    ");\n",
    "''')\n"
   ]
  },
  {
   "cell_type": "code",
   "execution_count": 21,
   "metadata": {},
   "outputs": [
    {
     "name": "stdout",
     "output_type": "stream",
     "text": [
      "<class 'pandas.core.frame.DataFrame'>\n",
      "RangeIndex: 9994 entries, 0 to 9993\n",
      "Data columns (total 24 columns):\n",
      " #   Column             Non-Null Count  Dtype  \n",
      "---  ------             --------------  -----  \n",
      " 0   OrderID            9994 non-null   object \n",
      " 1   Order Date         9994 non-null   object \n",
      " 2   Ship Date          9994 non-null   object \n",
      " 3   Ship Mode          9994 non-null   object \n",
      " 4   CustomerID         9994 non-null   object \n",
      " 5   Customer Name      9994 non-null   object \n",
      " 6   Segment            9994 non-null   object \n",
      " 7   Country            9994 non-null   object \n",
      " 8   City               9994 non-null   object \n",
      " 9   State              9994 non-null   object \n",
      " 10  Postal Code        9994 non-null   int64  \n",
      " 11  Region             9994 non-null   object \n",
      " 12  ProductID          9994 non-null   object \n",
      " 13  Category           9994 non-null   object \n",
      " 14  Sub-Category       9994 non-null   object \n",
      " 15  Product Name       9994 non-null   object \n",
      " 16  Sales              9994 non-null   float64\n",
      " 17  Quantity           9994 non-null   int64  \n",
      " 18  Discount           9994 non-null   float64\n",
      " 19  Profit             9994 non-null   float64\n",
      " 20  CategoryID         9994 non-null   int64  \n",
      " 21  UnitPrice          9994 non-null   float64\n",
      " 22  BuyPrice           9994 non-null   float64\n",
      " 23  OrderID_ProductID  9994 non-null   object \n",
      "dtypes: float64(5), int64(3), object(16)\n",
      "memory usage: 1.8+ MB\n"
     ]
    }
   ],
   "source": [
    "df['UnitPrice'] = df['Sales'] / (df['Quantity'] * (1-df['Discount']))\n",
    "df['BuyPrice'] = df['UnitPrice'] - df['Profit']\n",
    "df['OrderID_ProductID'] = df['OrderID'] + ' ' + df['ProductID']\n",
    "df.info()\n",
    "\n",
    "df_Sales = df[[\"Sales\", \"Quantity\", \"Discount\", \"Profit\", \"OrderID\", \"ProductID\"] ]"
   ]
  },
  {
   "cell_type": "code",
   "execution_count": 22,
   "metadata": {},
   "outputs": [],
   "source": [
    "# df_Sales = df_Sales.drop_duplicates(subset=['OrderID_ProductID'])"
   ]
  },
  {
   "cell_type": "code",
   "execution_count": 23,
   "metadata": {},
   "outputs": [],
   "source": [
    "# df_Sales = df_Sales [[\"Sales\", \"Quantity\", \"Discount\", \"Profit\", \"OrderID\", \"ProductID\" ] ]"
   ]
  },
  {
   "cell_type": "code",
   "execution_count": 24,
   "metadata": {},
   "outputs": [],
   "source": [
    "df_Sales.to_sql('Product_Sales', dfC, if_exists='replace', index=False)\n",
    "dfC.commit()"
   ]
  },
  {
   "cell_type": "code",
   "execution_count": 25,
   "metadata": {},
   "outputs": [],
   "source": [
    "df_order = df[[\"OrderID\", \"Order Date\", \"Ship Date\", \"Ship Mode\", \"CustomerID\"]]"
   ]
  },
  {
   "cell_type": "code",
   "execution_count": 26,
   "metadata": {},
   "outputs": [],
   "source": [
    "df_order = df_order.drop_duplicates(subset=['OrderID'])"
   ]
  },
  {
   "cell_type": "code",
   "execution_count": 27,
   "metadata": {},
   "outputs": [
    {
     "data": {
      "text/plain": [
       "5009"
      ]
     },
     "execution_count": 27,
     "metadata": {},
     "output_type": "execute_result"
    }
   ],
   "source": [
    "df_order.to_sql('Order', dfC, if_exists='replace', index=False)"
   ]
  },
  {
   "cell_type": "code",
   "execution_count": 28,
   "metadata": {},
   "outputs": [
    {
     "data": {
      "text/plain": [
       "793"
      ]
     },
     "execution_count": 28,
     "metadata": {},
     "output_type": "execute_result"
    }
   ],
   "source": [
    "df_Customer = df[[\"CustomerID\", \"Customer Name\", \"Segment\"]]\n",
    "df_Customer = df_Customer.drop_duplicates(subset=['CustomerID'])\n",
    "df_Customer.to_sql('Customer', dfC, if_exists='replace', index=False)"
   ]
  },
  {
   "cell_type": "code",
   "execution_count": 29,
   "metadata": {},
   "outputs": [
    {
     "data": {
      "text/plain": [
       "632"
      ]
     },
     "execution_count": 29,
     "metadata": {},
     "output_type": "execute_result"
    }
   ],
   "source": [
    "df_Address = df[[\"Country\", \"City\", \"State\", \"Postal Code\", \"Region\"]]\n",
    "df_Address = df_Address.drop_duplicates()\n",
    "df_Address.to_sql('Address', dfC, if_exists='replace', index=False)"
   ]
  },
  {
   "cell_type": "code",
   "execution_count": 30,
   "metadata": {},
   "outputs": [
    {
     "data": {
      "text/plain": [
       "17"
      ]
     },
     "execution_count": 30,
     "metadata": {},
     "output_type": "execute_result"
    }
   ],
   "source": [
    "df_Category = df[['CategoryID' ,'Category', 'Sub-Category']]\n",
    "df_Category = df_Category.drop_duplicates()\n",
    "df_Category.to_sql('Category', dfC, if_exists='replace', index=False)"
   ]
  },
  {
   "cell_type": "code",
   "execution_count": 31,
   "metadata": {},
   "outputs": [
    {
     "data": {
      "text/plain": [
       "1862"
      ]
     },
     "execution_count": 31,
     "metadata": {},
     "output_type": "execute_result"
    }
   ],
   "source": [
    "df_Product = df[[\"ProductID\", \"Product Name\", \"CategoryID\"]]\n",
    "df_Product = df_Product.drop_duplicates(subset=['ProductID'])\n",
    "df_Product.to_sql('Product', dfC, if_exists='replace', index=False)"
   ]
  },
  {
   "cell_type": "code",
   "execution_count": null,
   "metadata": {},
   "outputs": [
    {
     "name": "stdout",
     "output_type": "stream",
     "text": [
      "<class 'pandas.core.frame.DataFrame'>\n",
      "Index: 632 entries, 0 to 9881\n",
      "Data columns (total 2 columns):\n",
      " #   Column        Non-Null Count  Dtype \n",
      "---  ------        --------------  ----- \n",
      " 0   AddressID     632 non-null    int64 \n",
      " 1   Full Address  632 non-null    object\n",
      "dtypes: int64(1), object(1)\n",
      "memory usage: 14.8+ KB\n"
     ]
    }
   ],
   "source": [
    "# Adding a sequential number column\n",
    "df_Address['AddressID'] = range(1, len(df_Address) + 1)\n",
    "df_Address['Full Address'] = df['Country'] + ' ' + df['City'].fillna('') + ' ' + df['State'] + ' ' + df['Postal Code'].fillna('').astype(str) + ' ' + df['Region']\n",
    "df_Address = df_Address.drop([\"Country\", \"City\", \"State\", \"Postal Code\", \"Region\"],axis=1)\n",
    "df_Address.tail()\n",
    "df_Address.info()"
   ]
  },
  {
   "cell_type": "code",
   "execution_count": 33,
   "metadata": {},
   "outputs": [],
   "source": [
    "# df_order = df[[\"OrderID\", \"Order Date\", \"Ship Date\", \"Ship Mode\", \"CustomerID\"]]\n",
    "# df_order = df_order.drop_duplicates(subset=['OrderID'])\n",
    "# df_order.to_sql('Order', dfC, if_exists='append', index=False)\n",
    "\n",
    "# df_Customer = df[[\"CustomerID\", \"Customer Name\", \"Segment\"]]\n",
    "# df_Customer = df_Customer.drop_duplicates(subset=['CustomerID'])\n",
    "# df_Customer.to_sql('Customer', dfC, if_exists='append', index=False)\n",
    "\n",
    "# df_Address = df[[\"Country\", \"City\", \"State\", \"Postal Code\", \"Region\"]]\n",
    "# df_Address = df_Address.drop_duplicates()\n",
    "# df_Address.to_sql('Address', dfC, if_exists='append', index=False)\n",
    "\n",
    "# df_Category = df[['CategoryID' ,'Category', 'Sub-Category']]\n",
    "# df_Category = df_Category.drop_duplicates()\n",
    "# df_Category.to_sql('Category', dfC, if_exists='append', index=False)\n",
    "\n",
    "# df_Product = df[[\"ProductID\", \"Product Name\", \"CategoryID\"]]\n",
    "# df_Product = df_Product.drop_duplicates(subset=['ProductID'])\n",
    "# df_Product.to_sql('Product', dfC, if_exists='append', index=False)\n",
    "\n",
    "#Commit changes\n",
    "dfC.commit() \n"
   ]
  },
  {
   "cell_type": "code",
   "execution_count": 34,
   "metadata": {},
   "outputs": [
    {
     "data": {
      "text/plain": [
       "Index(['OrderID', 'Order Date', 'Ship Date', 'Ship Mode', 'CustomerID',\n",
       "       'Customer Name', 'Segment', 'Country', 'City', 'State', 'Postal Code',\n",
       "       'Region', 'ProductID', 'Category', 'Sub-Category', 'Product Name',\n",
       "       'Sales', 'Quantity', 'Discount', 'Profit', 'CategoryID', 'UnitPrice',\n",
       "       'BuyPrice', 'OrderID_ProductID'],\n",
       "      dtype='object')"
      ]
     },
     "execution_count": 34,
     "metadata": {},
     "output_type": "execute_result"
    }
   ],
   "source": [
    "df.columns"
   ]
  },
  {
   "cell_type": "markdown",
   "metadata": {},
   "source": [
    "# Epic 4: Perform some queries"
   ]
  },
  {
   "cell_type": "markdown",
   "metadata": {},
   "source": [
    "# What is the category generating the maximum sales revenue?\n",
    "# What about the profit in this category?\n",
    "# Are they making a loss in any categories?"
   ]
  },
  {
   "cell_type": "code",
   "execution_count": null,
   "metadata": {},
   "outputs": [],
   "source": []
  }
 ],
 "metadata": {
  "kernelspec": {
   "display_name": "CodeAcadamyBerlinCAB",
   "language": "python",
   "name": "python3"
  },
  "language_info": {
   "codemirror_mode": {
    "name": "ipython",
    "version": 3
   },
   "file_extension": ".py",
   "mimetype": "text/x-python",
   "name": "python",
   "nbconvert_exporter": "python",
   "pygments_lexer": "ipython3",
   "version": "3.12.7"
  }
 },
 "nbformat": 4,
 "nbformat_minor": 2
}
